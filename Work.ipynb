{
 "metadata": {
  "language_info": {
   "codemirror_mode": {
    "name": "ipython",
    "version": 3
   },
   "file_extension": ".py",
   "mimetype": "text/x-python",
   "name": "python",
   "nbconvert_exporter": "python",
   "pygments_lexer": "ipython3",
   "version": "3.7.4-final"
  },
  "orig_nbformat": 2,
  "kernelspec": {
   "name": "python3",
   "display_name": "Python 3"
  }
 },
 "nbformat": 4,
 "nbformat_minor": 2,
 "cells": [
  {
   "cell_type": "code",
   "execution_count": null,
   "metadata": {},
   "outputs": [],
   "source": [
    "from Estatistica import Stat"
   ]
  },
  {
   "cell_type": "code",
   "execution_count": null,
   "metadata": {},
   "outputs": [],
   "source": [
    "S = Stat()\n",
    "S.setData2(Xa = 42500, Xb = 40400, Va = 2200, Vb = 1900, Na = 45, Nb = 45)\n",
    "S.setConf(alfa = 5/100)\n",
    "S.IC()"
   ]
  },
  {
   "cell_type": "code",
   "execution_count": null,
   "metadata": {},
   "outputs": [],
   "source": [
    "S2 = Stat()\n",
    "S2.setData2(Na = 15, Nb = 10, Va = 18.7, Vb = 6.34)\n",
    "S2.setConf(alfa=2/100)\n",
    "S2.TH('diffVar')"
   ]
  },
  {
   "cell_type": "code",
   "execution_count": null,
   "metadata": {},
   "outputs": [],
   "source": [
    "A = [14,20,16,21,19,17,20,18,20,19,16,17,21,22,21,17,20,21,16,22]\n",
    "S3 = Stat(A)\n",
    "S3.TH(mode=\"menorVar\", sigma2 = 15)\n"
   ]
  },
  {
   "cell_type": "code",
   "execution_count": null,
   "metadata": {},
   "outputs": [],
   "source": [
    "S4 = Stat()\n",
    "S4.setData2(Na=21, Va=12.4)\n",
    "S4.TH(mode=\"menorVar\", sigma2 = 25)"
   ]
  }
 ]
}