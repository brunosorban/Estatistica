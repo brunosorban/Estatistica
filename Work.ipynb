{
 "metadata": {
  "language_info": {
   "codemirror_mode": {
    "name": "ipython",
    "version": 3
   },
   "file_extension": ".py",
   "mimetype": "text/x-python",
   "name": "python",
   "nbconvert_exporter": "python",
   "pygments_lexer": "ipython3",
   "version": "3.7.4-final"
  },
  "orig_nbformat": 2,
  "kernelspec": {
   "name": "python3",
   "display_name": "Python 3"
  }
 },
 "nbformat": 4,
 "nbformat_minor": 2,
 "cells": [
  {
   "cell_type": "code",
   "execution_count": 95,
   "metadata": {},
   "outputs": [
    {
     "output_type": "stream",
     "name": "stdout",
     "text": [
      "The autoreload extension is already loaded. To reload it, use:\n  %reload_ext autoreload\n"
     ]
    }
   ],
   "source": [
    "from Estatistica import Stat\n",
    "\n",
    "%load_ext autoreload\n",
    "%autoreload 2"
   ]
  },
  {
   "cell_type": "code",
   "execution_count": 96,
   "metadata": {},
   "outputs": [
    {
     "output_type": "stream",
     "name": "stdout",
     "text": [
      "IC =  2100.0  ±  849.317\n"
     ]
    },
    {
     "output_type": "execute_result",
     "data": {
      "text/plain": [
       "(1250.682, 2949.317)"
      ]
     },
     "metadata": {},
     "execution_count": 96
    }
   ],
   "source": [
    "S = Stat()\n",
    "S.setData2(Xa = 42500, Xb = 40400, Va = 2200**2, Vb = 1900**2, Na = 45, Nb = 45)\n",
    "S.setConf(alfa = 5/100)\n",
    "S.IC()"
   ]
  },
  {
   "cell_type": "code",
   "execution_count": 97,
   "metadata": {},
   "outputs": [
    {
     "output_type": "stream",
     "name": "stdout",
     "text": [
      "Fcalc =  2.949\nFcritmin =  0.248\nFcritmax =  5.005\nAceito H0\n"
     ]
    },
    {
     "output_type": "execute_result",
     "data": {
      "text/plain": [
       "True"
      ]
     },
     "metadata": {},
     "execution_count": 97
    }
   ],
   "source": [
    "S2 = Stat()\n",
    "S2.setData2(Na = 15, Nb = 10, Va = 18.7, Vb = 6.34)\n",
    "S2.setConf(alfa=2/100)\n",
    "S2.TH('diffVar')"
   ]
  },
  {
   "cell_type": "code",
   "execution_count": 98,
   "metadata": {},
   "outputs": [
    {
     "output_type": "stream",
     "name": "stdout",
     "text": [
      "Quicalc =  6.494\nQuicritmin =  10.117\nRejeito H0\n"
     ]
    },
    {
     "output_type": "execute_result",
     "data": {
      "text/plain": [
       "False"
      ]
     },
     "metadata": {},
     "execution_count": 98
    }
   ],
   "source": [
    "A = [14,20,16,21,19,17,20,18,20,19,16,17,21,22,21,17,20,21,16,22]\n",
    "S3 = Stat(A)\n",
    "S3.TH(mode=\"menorVar\", cond = 15)\n"
   ]
  },
  {
   "cell_type": "code",
   "execution_count": 99,
   "metadata": {},
   "outputs": [
    {
     "output_type": "stream",
     "name": "stdout",
     "text": [
      "Quicalc =  9.92\nQuicritmin =  10.85\nRejeito H0\n"
     ]
    },
    {
     "output_type": "execute_result",
     "data": {
      "text/plain": [
       "False"
      ]
     },
     "metadata": {},
     "execution_count": 99
    }
   ],
   "source": [
    "S4 = Stat()\n",
    "S4.setData2(Na=21, Va=12.4)\n",
    "S4.TH(mode=\"menorVar\", cond = 25)"
   ]
  },
  {
   "cell_type": "code",
   "execution_count": 100,
   "metadata": {},
   "outputs": [
    {
     "output_type": "stream",
     "name": "stdout",
     "text": [
      "Alfa =  72.063 %\n"
     ]
    },
    {
     "output_type": "execute_result",
     "data": {
      "text/plain": [
       "0.07206351740800765"
      ]
     },
     "metadata": {},
     "execution_count": 100
    }
   ],
   "source": [
    "S5 = Stat()\n",
    "S5.setData2(Na = 120, Pla = 17/30)\n",
    "S5.pValor(mode = \"maiorProp\", cond = 0.5)"
   ]
  },
  {
   "cell_type": "code",
   "execution_count": 101,
   "metadata": {},
   "outputs": [
    {
     "output_type": "stream",
     "name": "stdout",
     "text": [
      "IC =  -0.14  ±  0.208\n"
     ]
    },
    {
     "output_type": "execute_result",
     "data": {
      "text/plain": [
       "(-0.348, 0.067)"
      ]
     },
     "metadata": {},
     "execution_count": 101
    }
   ],
   "source": [
    "S5 = Stat()\n",
    "S5.setData2(Pla =22, Plb = 29, Na = 40, Nb = 42)\n",
    "S5.IC(mode='diffProp')"
   ]
  },
  {
   "cell_type": "code",
   "execution_count": 102,
   "metadata": {},
   "outputs": [
    {
     "output_type": "stream",
     "name": "stdout",
     "text": [
      "T_calc_emparelhado =  3.464\nTcrit =  1.795\nRejeito H0, a média A é maior que a média B\nLembre que deve ser respeitada a ordem de que o dado A é menor que o B. A troca de sinal irá distorcer o resultado\n"
     ]
    },
    {
     "output_type": "execute_result",
     "data": {
      "text/plain": [
       "False"
      ]
     },
     "metadata": {},
     "execution_count": 102
    }
   ],
   "source": [
    "A = [12,10,15,11,11,14,11,12,14,15,16,17]\n",
    "B = [14,11,15,18,14,16,11,12,15,17,18,21]\n",
    "\n",
    "S6 = Stat(B,A)\n",
    "S6.TH(mode = \"maiorMedEmp\", student=True)"
   ]
  },
  {
   "cell_type": "code",
   "execution_count": 103,
   "metadata": {},
   "outputs": [
    {
     "output_type": "stream",
     "name": "stdout",
     "text": [
      "Zcalc =  -1.639\nZcritmin =  -1.959\nZcritmax =  1.959\nAceito H0\n"
     ]
    },
    {
     "output_type": "execute_result",
     "data": {
      "text/plain": [
       "True"
      ]
     },
     "metadata": {},
     "execution_count": 103
    }
   ],
   "source": [
    "S7 = Stat()\n",
    "S7.setData2(Va = 2.25, Na = 20, Xa = 31.95)\n",
    "S7.TH(\"med\", cond=32.5)"
   ]
  },
  {
   "cell_type": "code",
   "execution_count": 104,
   "metadata": {},
   "outputs": [
    {
     "output_type": "stream",
     "name": "stdout",
     "text": [
      "Alfa = 21.460 %\nBeta = 2.103 %\n"
     ]
    },
    {
     "output_type": "execute_result",
     "data": {
      "text/plain": [
       "0.021031678242562194"
      ]
     },
     "metadata": {},
     "execution_count": 104
    }
   ],
   "source": [
    "S8 = Stat()\n",
    "S8.setData2(Xa = 27.6, Va = 1.6**2, Xb = 29.8, Vb = 2.8**2, Na =10, Nb = 10)\n",
    "S8.pValor(\"alfaMedia\", cond = 28)\n",
    "S8.pValor(\"betaMedia\", cond = 28)"
   ]
  },
  {
   "cell_type": "code",
   "execution_count": 105,
   "metadata": {},
   "outputs": [
    {
     "output_type": "stream",
     "name": "stdout",
     "text": [
      "T_calc_emparelhado =  -5.303\nTcritmin =  -2.109\nTcritmax =  2.109\nRejeito H0, as médias são diferentes\n"
     ]
    },
    {
     "output_type": "execute_result",
     "data": {
      "text/plain": [
       "False"
      ]
     },
     "metadata": {},
     "execution_count": 105
    }
   ],
   "source": [
    "A = [29,28,27,30,28,31,30,31,31,30]\n",
    "B = [32,34,35,39,35,34,34,31]\n",
    "\n",
    "S9 = Stat(A, B)\n",
    "S9.TH(mode = \"diffMedEmp\", student = True, mesmaVariancia = True)"
   ]
  },
  {
   "cell_type": "code",
   "execution_count": 106,
   "metadata": {},
   "outputs": [
    {
     "output_type": "stream",
     "name": "stdout",
     "text": [
      "Chi2calc =  6.677\nChi2crit =  14.067\nAceito H0\n"
     ]
    },
    {
     "output_type": "execute_result",
     "data": {
      "text/plain": [
       "True"
      ]
     },
     "metadata": {},
     "execution_count": 106
    }
   ],
   "source": [
    "A = [0,1,2,3,4,5,6,7,8,9]\n",
    "B = [6,24,42,59,62,44,41,14,6,2]\n",
    "S10 = Stat()\n",
    "S10.TA(A, B, mode=\"poisson\")"
   ]
  },
  {
   "cell_type": "code",
   "execution_count": 107,
   "metadata": {},
   "outputs": [
    {
     "output_type": "stream",
     "name": "stdout",
     "text": [
      "Chi2calc =  15.795\nChi2crit =  7.814\nRejeito H0\n"
     ]
    },
    {
     "output_type": "execute_result",
     "data": {
      "text/plain": [
       "False"
      ]
     },
     "metadata": {},
     "execution_count": 107
    }
   ],
   "source": [
    "A = [0,1,2,3,4,5,6,7,8]\n",
    "B = [25,30,15,12,8,4,3,2,1]\n",
    "\n",
    "S11 = Stat()\n",
    "S11.TA(A, B, mode=\"poisson\")"
   ]
  },
  {
   "cell_type": "code",
   "execution_count": 108,
   "metadata": {},
   "outputs": [
    {
     "output_type": "stream",
     "name": "stdout",
     "text": [
      "| Fonte       SQ        gl        QM      F     Fcrit |\n| Dado 1    81.20       3       27.067  22.361  3.009 |\n| Dado 2    66.50       8       8.312   6.867   2.355 |\n| Residual  29.05       24      1.210 |\n| Total     176.75      35      5.050 |\n\nRejeito H0.1, as médias de 1 são diferentes\nRejeito H0.2, as médias de 2 são diferentes\n"
     ]
    },
    {
     "output_type": "execute_result",
     "data": {
      "text/plain": [
       "(False, False)"
      ]
     },
     "metadata": {},
     "execution_count": 108
    }
   ],
   "source": [
    "S12 = Stat()\n",
    "S12.AV(mode = 'doisFat', SQ2 = 66.5, SQR = 29.05, SQT = 176.75, n1 = 4, n2 = 9)"
   ]
  },
  {
   "cell_type": "code",
   "execution_count": 109,
   "metadata": {},
   "outputs": [
    {
     "output_type": "stream",
     "name": "stdout",
     "text": [
      "| Fonte        SQ        gl          QM        F    Fcrit    pVal  |\n| Dado 1    44141.07     3       14713.690   0.884  3.239  0.52960 |\n| Residual  266359.69    16      16647.481 |\n| Total     310500.76    19      16342.145 |\n\nAceito H0, as médias são iguais\n"
     ]
    },
    {
     "output_type": "execute_result",
     "data": {
      "text/plain": [
       "True"
      ]
     },
     "metadata": {},
     "execution_count": 109
    }
   ],
   "source": [
    "S13 = Stat()\n",
    "S13.AV(QM1 = 14713.69, SQT = 310500.76, n1 = 4, n2 = 5)"
   ]
  },
  {
   "cell_type": "code",
   "execution_count": null,
   "metadata": {},
   "outputs": [],
   "source": []
  }
 ]
}