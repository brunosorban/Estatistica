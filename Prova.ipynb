{
 "metadata": {
  "language_info": {
   "codemirror_mode": {
    "name": "ipython",
    "version": 3
   },
   "file_extension": ".py",
   "mimetype": "text/x-python",
   "name": "python",
   "nbconvert_exporter": "python",
   "pygments_lexer": "ipython3",
   "version": "3.7.4-final"
  },
  "orig_nbformat": 2,
  "kernelspec": {
   "name": "python3",
   "display_name": "Python 3",
   "language": "python"
  }
 },
 "nbformat": 4,
 "nbformat_minor": 2,
 "cells": [
  {
   "cell_type": "code",
   "execution_count": 2,
   "metadata": {},
   "outputs": [],
   "source": [
    "from Estatistica import Stat\n",
    "\n",
    "%load_ext autoreload\n",
    "%autoreload 2"
   ]
  },
  {
   "cell_type": "code",
   "execution_count": 9,
   "metadata": {},
   "outputs": [
    {
     "output_type": "stream",
     "name": "stdout",
     "text": [
      "| Fonte        SQ        gl          QM    |\n| Entre     378.00     1       378.000 |\n| Residual   72.00    18      4.000 |\n| Total      450.00    19      23.684 |\n\n|r| = 0.917\nR² = 0.840\nTcalc = 9.721\nTcrit = 2.101\nRejeito H0, há correlação linear\n"
     ]
    },
    {
     "output_type": "execute_result",
     "data": {
      "text/plain": [
       "False"
      ]
     },
     "metadata": {},
     "execution_count": 9
    }
   ],
   "source": [
    "S1 = Stat()\n",
    "S1.TC(SQ1 = 378, SQT = 450, n=20)"
   ]
  },
  {
   "cell_type": "code",
   "execution_count": 12,
   "metadata": {},
   "outputs": [
    {
     "output_type": "error",
     "ename": "TypeError",
     "evalue": "unsupported operand type(s) for -: 'NoneType' and 'int'",
     "traceback": [
      "\u001b[1;31m---------------------------------------------------------------------------\u001b[0m",
      "\u001b[1;31mTypeError\u001b[0m                                 Traceback (most recent call last)",
      "\u001b[1;32m<ipython-input-12-518703264f83>\u001b[0m in \u001b[0;36m<module>\u001b[1;34m\u001b[0m\n\u001b[0;32m      1\u001b[0m \u001b[0mS2\u001b[0m \u001b[1;33m=\u001b[0m \u001b[0mStat\u001b[0m\u001b[1;33m(\u001b[0m\u001b[1;33m)\u001b[0m\u001b[1;33m\u001b[0m\u001b[1;33m\u001b[0m\u001b[0m\n\u001b[1;32m----> 2\u001b[1;33m \u001b[0mS2\u001b[0m\u001b[1;33m.\u001b[0m\u001b[0mAV\u001b[0m\u001b[1;33m(\u001b[0m\u001b[0mmode\u001b[0m \u001b[1;33m=\u001b[0m \u001b[1;34m\"doisFatRep\"\u001b[0m\u001b[1;33m,\u001b[0m \u001b[0mn1\u001b[0m \u001b[1;33m=\u001b[0m \u001b[1;36m3\u001b[0m\u001b[1;33m,\u001b[0m \u001b[0mn2\u001b[0m \u001b[1;33m=\u001b[0m \u001b[1;36m2\u001b[0m\u001b[1;33m,\u001b[0m \u001b[0mSQ1\u001b[0m \u001b[1;33m=\u001b[0m \u001b[1;36m4.581\u001b[0m\u001b[1;33m,\u001b[0m \u001b[0mSQ2\u001b[0m \u001b[1;33m=\u001b[0m \u001b[1;36m4.909\u001b[0m\u001b[1;33m,\u001b[0m \u001b[0mSQT\u001b[0m \u001b[1;33m=\u001b[0m \u001b[1;36m10.718\u001b[0m\u001b[1;33m)\u001b[0m\u001b[1;33m\u001b[0m\u001b[1;33m\u001b[0m\u001b[0m\n\u001b[0m",
      "\u001b[1;32mc:\\Users\\bruno\\OneDrive\\Documentos\\GitHub\\Estatistica\\Estatistica.py\u001b[0m in \u001b[0;36mAV\u001b[1;34m(self, multiDados, SQ1, n1, SQ2, n2, SQI, repeticao, SQR, SQT, QM1, QM2, QMI, QMR, QMT, mode)\u001b[0m\n\u001b[0;32m    516\u001b[0m             \u001b[0mgl2\u001b[0m \u001b[1;33m=\u001b[0m \u001b[0mn2\u001b[0m \u001b[1;33m-\u001b[0m \u001b[1;36m1\u001b[0m\u001b[1;33m\u001b[0m\u001b[1;33m\u001b[0m\u001b[0m\n\u001b[0;32m    517\u001b[0m             \u001b[0mgli\u001b[0m \u001b[1;33m=\u001b[0m \u001b[0mgl1\u001b[0m \u001b[1;33m*\u001b[0m \u001b[0mgl2\u001b[0m\u001b[1;33m\u001b[0m\u001b[1;33m\u001b[0m\u001b[0m\n\u001b[1;32m--> 518\u001b[1;33m             \u001b[0mglr\u001b[0m \u001b[1;33m=\u001b[0m \u001b[0mn1\u001b[0m \u001b[1;33m*\u001b[0m \u001b[0mn2\u001b[0m \u001b[1;33m*\u001b[0m \u001b[1;33m(\u001b[0m\u001b[0mrepeticao\u001b[0m \u001b[1;33m-\u001b[0m \u001b[1;36m1\u001b[0m\u001b[1;33m)\u001b[0m\u001b[1;33m\u001b[0m\u001b[1;33m\u001b[0m\u001b[0m\n\u001b[0m\u001b[0;32m    519\u001b[0m             \u001b[0mglt\u001b[0m \u001b[1;33m=\u001b[0m \u001b[0mn1\u001b[0m \u001b[1;33m*\u001b[0m \u001b[0mn2\u001b[0m \u001b[1;33m*\u001b[0m \u001b[0mrepeticao\u001b[0m \u001b[1;33m-\u001b[0m \u001b[1;36m1\u001b[0m\u001b[1;33m\u001b[0m\u001b[1;33m\u001b[0m\u001b[0m\n\u001b[0;32m    520\u001b[0m \u001b[1;33m\u001b[0m\u001b[0m\n",
      "\u001b[1;31mTypeError\u001b[0m: unsupported operand type(s) for -: 'NoneType' and 'int'"
     ]
    }
   ],
   "source": [
    "S2 = Stat()\n",
    "S2.AV(mode = \"doisFatRep\", n1 = 3, n2 = 2, SQ1 = 4.581, SQ2 = 4.909, SQT = 10.718)"
   ]
  },
  {
   "cell_type": "code",
   "execution_count": 17,
   "metadata": {},
   "outputs": [
    {
     "output_type": "stream",
     "name": "stdout",
     "text": [
      "Zcalc = -0.221\nZcritmin =  -1.959\nZcritmax =  1.959\nAceito H0\n"
     ]
    },
    {
     "output_type": "execute_result",
     "data": {
      "text/plain": [
       "True"
      ]
     },
     "metadata": {},
     "execution_count": 17
    }
   ],
   "source": [
    "A = [25,28,35,19,27,26,33]\n",
    "B = [35,25,28,32,20,29]\n",
    "S3 = Stat(A,B)\n",
    "S3.TH(mode = \"diffMed\")\n"
   ]
  },
  {
   "cell_type": "code",
   "execution_count": 16,
   "metadata": {},
   "outputs": [
    {
     "output_type": "stream",
     "name": "stdout",
     "text": [
      "Fcalc =  1.035\nFcritmin =  0.167\nFcritmax =  6.977\nAceito H0\n"
     ]
    },
    {
     "output_type": "execute_result",
     "data": {
      "text/plain": [
       "True"
      ]
     },
     "metadata": {},
     "execution_count": 16
    }
   ],
   "source": [
    "A = [25,28,35,19,27,26,33]\n",
    "B = [35,25,28,32,20,29]\n",
    "S3 = Stat(A,B)\n",
    "S3.TH(mode = \"diffVar\")\n"
   ]
  },
  {
   "cell_type": "code",
   "execution_count": 24,
   "metadata": {},
   "outputs": [
    {
     "output_type": "stream",
     "name": "stdout",
     "text": [
      "Fcalc =  0.65\nFcritmin =  0.178\nFcritmax =  4.651\nAceito H0\n"
     ]
    },
    {
     "output_type": "execute_result",
     "data": {
      "text/plain": [
       "True"
      ]
     },
     "metadata": {},
     "execution_count": 24
    }
   ],
   "source": [
    "S4 = Stat()\n",
    "S4.setData2(Na = 7, Nb = 9, Xa = 15.5, Xb = 16.5, Va = 2.5**2, Vb = 3.1**2)\n",
    "S5.setConf(1/100)\n",
    "S4.TH(mode = \"diffVar\")"
   ]
  },
  {
   "cell_type": "code",
   "execution_count": 25,
   "metadata": {},
   "outputs": [
    {
     "output_type": "stream",
     "name": "stdout",
     "text": [
      "Zcalc = -0.714\nZcritmin =  -2.575\nZcritmax =  2.575\nAceito H0\n"
     ]
    },
    {
     "output_type": "execute_result",
     "data": {
      "text/plain": [
       "True"
      ]
     },
     "metadata": {},
     "execution_count": 25
    }
   ],
   "source": [
    "S5 = Stat()\n",
    "S5.setData2(Na = 7, Nb = 9, Xa = 15.5, Xb = 16.5, Va = 2.5**2, Vb = 3.1**2)\n",
    "S5.setConf(1/100)\n",
    "S5.TH(mode = \"diffMed\")"
   ]
  },
  {
   "cell_type": "code",
   "execution_count": 27,
   "metadata": {},
   "outputs": [
    {
     "output_type": "stream",
     "name": "stdout",
     "text": [
      "| Fonte        SQ      gl       QM    |\n| Entre      44141.07     3       14713.690 |\n| Residual   266359.69     16      16647.481 |\n| Total      310500.76    19      16342.145 |\n\nFcalc = 0.884\nFcrit = 3.239\nP-Valor = 0.530\n\nAceito H0, as médias são iguais\n"
     ]
    },
    {
     "output_type": "execute_result",
     "data": {
      "text/plain": [
       "True"
      ]
     },
     "metadata": {},
     "execution_count": 27
    }
   ],
   "source": [
    "S6 = Stat()\n",
    "S6.AV(QM1 = 14713.69, SQT = 310500.76, n1 = 4, n2=5)"
   ]
  },
  {
   "cell_type": "code",
   "execution_count": 40,
   "metadata": {},
   "outputs": [
    {
     "output_type": "stream",
     "name": "stdout",
     "text": [
      "Y = 0.353x + 1.764\nIC: 12.692 ± 0.147\nIC: [12.545, 12.838]\nr = 0.671\nR² = 0.450\nTeste de Hipótese para a regressão\nTcalc = 40.460\nTcrit = 1.961\nAceito H0, há regressão\n"
     ]
    }
   ],
   "source": [
    "S7 = Stat()\n",
    "S7.regressao(31,somaX = 62756, somaY = 25650, somaX2=2937801, somaXY=1146301, somaY2=596235, n=2000, mode='s')"
   ]
  },
  {
   "cell_type": "code",
   "execution_count": 48,
   "metadata": {},
   "outputs": [
    {
     "output_type": "stream",
     "name": "stdout",
     "text": [
      "Zcalc = 1.154\nZcrit = 1.960\nP-Valor = 0.12419\nAceito H0, as proporções são iguais\n"
     ]
    },
    {
     "output_type": "execute_result",
     "data": {
      "text/plain": [
       "True"
      ]
     },
     "metadata": {},
     "execution_count": 48
    }
   ],
   "source": [
    "S8  =Stat()\n",
    "S8.setData2(Pla = 85, Na=250,Plb=73,Nb=250)\n",
    "S8.setConf(5/100)\n",
    "S8.TH(mode = 'diffProp')"
   ]
  },
  {
   "cell_type": "code",
   "execution_count": 53,
   "metadata": {},
   "outputs": [
    {
     "output_type": "stream",
     "name": "stdout",
     "text": [
      "Graus de Liberdade = 6.000\nChi2calc = inf\nChi2crit = 12.592\nRejeito H0\n"
     ]
    },
    {
     "output_type": "execute_result",
     "data": {
      "text/plain": [
       "False"
      ]
     },
     "metadata": {},
     "execution_count": 53
    }
   ],
   "source": [
    "O = [5,5,11,6,6,7,9]\n",
    "B = [(-1000000, -1.07), (-1.07, -0.57), (-0.57, -0.18), (-0.18, 0.18), (0.18, 0.57), (0.57,1.07), (1.07, 1000000)]\n",
    "S9 = Stat(B, O)\n",
    "S9.TA(mode='normal', media=150, desvpad=30, n=49)"
   ]
  }
 ]
}